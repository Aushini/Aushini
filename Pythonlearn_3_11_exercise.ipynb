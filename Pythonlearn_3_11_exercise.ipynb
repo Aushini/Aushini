{
  "nbformat": 4,
  "nbformat_minor": 0,
  "metadata": {
    "colab": {
      "name": "Pythonlearn 3.11 exercise.ipynb",
      "provenance": [],
      "authorship_tag": "ABX9TyOMOiKd7m9af5wEj7lqakrW",
      "include_colab_link": true
    },
    "kernelspec": {
      "name": "python3",
      "display_name": "Python 3"
    },
    "language_info": {
      "name": "python"
    }
  },
  "cells": [
    {
      "cell_type": "markdown",
      "metadata": {
        "id": "view-in-github",
        "colab_type": "text"
      },
      "source": [
        "<a href=\"https://colab.research.google.com/github/Aushini/Aushini/blob/main/Pythonlearn_3_11_exercise.ipynb\" target=\"_parent\"><img src=\"https://colab.research.google.com/assets/colab-badge.svg\" alt=\"Open In Colab\"/></a>"
      ]
    },
    {
      "cell_type": "markdown",
      "metadata": {
        "id": "GETi7d2KXFoI"
      },
      "source": [
        "Rewrite your pay computation to give the employee 1.5\n",
        "times the hourly rate for hours worked above 40 hours.\n"
      ]
    },
    {
      "cell_type": "code",
      "metadata": {
        "colab": {
          "base_uri": "https://localhost:8080/"
        },
        "id": "WHmmCWfAWelh",
        "outputId": "6b6eb735-b8d8-4f86-acfb-00fa15c7db3a"
      },
      "source": [
        "h = int(input('Enter Hours: '))\n",
        "r = int(input('Enter Rate: '))\n",
        "if h>40:\n",
        "  r = r*1.5\n",
        "  pay = r*h\n",
        "else:\n",
        "  pay = r*h\n",
        "print(pay)"
      ],
      "execution_count": 3,
      "outputs": [
        {
          "output_type": "stream",
          "text": [
            "Enter Hours: 45\n",
            "Enter Rate: 10\n",
            "675.0\n"
          ],
          "name": "stdout"
        }
      ]
    },
    {
      "cell_type": "markdown",
      "metadata": {
        "id": "f9Z5rCcYZrjO"
      },
      "source": [
        "Rewrite your pay program using try and except so that your\n",
        "program handles non-numeric input gracefully by printing a message\n",
        "and exiting the program. The following shows two executions of the\n",
        "program"
      ]
    },
    {
      "cell_type": "code",
      "metadata": {
        "colab": {
          "base_uri": "https://localhost:8080/"
        },
        "id": "guomhF_SZwre",
        "outputId": "a94bda4e-22ae-42fd-a959-c6e735acf389"
      },
      "source": [
        "h = (input('Enter Hours: '))\n",
        "r = (input('Enter Rate: '))\n",
        "try:\n",
        "  pay = r*h\n",
        "  print(pay)\n",
        "except:\n",
        "  print('Please, enter a numeric input')\n"
      ],
      "execution_count": 9,
      "outputs": [
        {
          "output_type": "stream",
          "text": [
            "Enter Hours: 40\n",
            "Enter Rate: nine\n",
            "Please, enter a numeric input\n"
          ],
          "name": "stdout"
        }
      ]
    },
    {
      "cell_type": "markdown",
      "metadata": {
        "id": "VZMBVxB4ddiZ"
      },
      "source": [
        " Write a program to prompt for a score between 0.0 and\n",
        "1.0. If the score is out of range, print an error message. If the score is\n",
        "between 0.0 and 1.0, print a grade using the following table:\n",
        "\n",
        "greater or = 0.9 A\n",
        "\n",
        "greater or =  0.8 B\n",
        "\n",
        "greater or = 0.7 C\n",
        "\n",
        "greater or = 0.6 D\n",
        "\n",
        "< 0.6 F "
      ]
    },
    {
      "cell_type": "code",
      "metadata": {
        "colab": {
          "base_uri": "https://localhost:8080/"
        },
        "id": "cHUU4ZaueeAi",
        "outputId": "69722c4a-0d5b-4981-e9c6-48be4ef8b7f6"
      },
      "source": [
        "s = input('Enter Score between 0.0 to 1.0: ')\n",
        "try:\n",
        "    s = float(s1)\n",
        "    if s>=0.9 and s<=1.0:\n",
        "        print('A')\n",
        "    elif s>=0.8 and s<=1.0:\n",
        "        print('B')\n",
        "    elif s>=0.7 and s<=1.0:\n",
        "        print('C')\n",
        "    elif s>=0.6 and s<=1.0:\n",
        "        print('D')\n",
        "    elif s<0.6 and s>=0.0:\n",
        "        print('F')\n",
        "    else:\n",
        "        print('Bad Score')\n",
        "except:\n",
        "    print('Bad Score')\n"
      ],
      "execution_count": 14,
      "outputs": [
        {
          "output_type": "stream",
          "text": [
            "Enter Score between 0.0 to 1.0: perfect\n",
            "Bad Score\n"
          ],
          "name": "stdout"
        }
      ]
    }
  ]
}