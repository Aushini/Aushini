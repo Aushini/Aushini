{
  "nbformat": 4,
  "nbformat_minor": 0,
  "metadata": {
    "colab": {
      "name": "Pythonlearn 5.9 and 6.14 exercise.ipynb",
      "provenance": [],
      "authorship_tag": "ABX9TyNXrGa4cIft+SOg6Kv47fdX",
      "include_colab_link": true
    },
    "kernelspec": {
      "name": "python3",
      "display_name": "Python 3"
    },
    "language_info": {
      "name": "python"
    }
  },
  "cells": [
    {
      "cell_type": "markdown",
      "metadata": {
        "id": "view-in-github",
        "colab_type": "text"
      },
      "source": [
        "<a href=\"https://colab.research.google.com/github/Aushini/Pythonlearn-book-exercise/blob/main/Pythonlearn_5_9_and_6_14_exercise.ipynb\" target=\"_parent\"><img src=\"https://colab.research.google.com/assets/colab-badge.svg\" alt=\"Open In Colab\"/></a>"
      ]
    },
    {
      "cell_type": "markdown",
      "metadata": {
        "id": "J1lqOpyaklTZ"
      },
      "source": [
        "Write a program which repeatedly reads numbers until the\n",
        "user enters “done”. Once “done” is entered, print out the total, count,\n",
        "and average of the numbers. If the user enters anything other than a\n",
        "number, detect their mistake using try and except and print an error\n",
        "message and skip to the next number."
      ]
    },
    {
      "cell_type": "code",
      "metadata": {
        "colab": {
          "base_uri": "https://localhost:8080/"
        },
        "id": "qHeBr5h5kkCT",
        "outputId": "64952fec-2a3a-46a5-c934-820495d89a1a"
      },
      "source": [
        "a = input('Enter a number:')\n",
        "count = 0\n",
        "sum = 0\n",
        "while a != 'done':\n",
        "  try:\n",
        "    sum = sum + int(a)\n",
        "    count = count + 1\n",
        "    a = input('Enter a number:')\n",
        "  except:\n",
        "    print('Invalid Input')\n",
        "    a = input('Enter a number:')\n",
        "avg = sum/count\n",
        "print(count, sum, avg)"
      ],
      "execution_count": null,
      "outputs": [
        {
          "output_type": "stream",
          "text": [
            "Enter a number:4\n",
            "Enter a number:5\n",
            "Enter a number:bad data\n",
            "Invalid Input\n",
            "Enter a number:7\n",
            "Enter a number:done\n",
            "3 16 5.333333333333333\n"
          ],
          "name": "stdout"
        }
      ]
    },
    {
      "cell_type": "markdown",
      "metadata": {
        "id": "6BQZRdPJmVEx"
      },
      "source": [
        "Write another program that prompts for a list of numbers\n",
        "as above and at the end prints out both the maximum and minimum of\n",
        "the numbers instead of the average"
      ]
    },
    {
      "cell_type": "code",
      "metadata": {
        "colab": {
          "base_uri": "https://localhost:8080/"
        },
        "id": "YBsCPVAbmWo7",
        "outputId": "49731693-91a5-4c6f-a34f-58a25ae921ad"
      },
      "source": [
        "count = 0\n",
        "total = 0\n",
        "avg = 0\n",
        "largest = None\n",
        "smallest = None\n",
        "keepgoing = True\n",
        "while keepgoing:\n",
        "  prompt1 = 'Enter a number \\n'\n",
        "  line = input (prompt1)\n",
        "  try:\n",
        "     line = float(line)\n",
        "     count = count + 1 \n",
        "     total = total + line\n",
        "     avg = total / count\n",
        "     if smallest is None or line < smallest:\n",
        "      smallest = line\n",
        "     if largest is None or line > largest:\n",
        "      largest = line\n",
        "  except:\n",
        "    if line == 'Done' or line == 'done':\n",
        "      break\n",
        "    else:\n",
        "      print ('Invalid Input')\n",
        "      continue\n",
        "print (count, largest, smallest)"
      ],
      "execution_count": null,
      "outputs": [
        {
          "output_type": "stream",
          "text": [
            "Enter a number \n",
            "2\n",
            "Enter a number \n",
            "8\n",
            "Enter a number \n",
            "5\n",
            "Enter a number \n",
            "ok\n",
            "Invalid Input\n",
            "Enter a number \n",
            "done\n",
            "3 8.0 2.0\n"
          ],
          "name": "stdout"
        }
      ]
    },
    {
      "cell_type": "markdown",
      "metadata": {
        "id": "2in2ltIK3Ssw"
      },
      "source": [
        "Take the following Python code that stores a string:\n",
        "str = 'X-DSPAM-Confidence:0.8475'\n",
        "Use find and string slicing to extract the portion of the string after the\n",
        "colon character and then use the float function to convert the extracted\n",
        "string into a floating point number"
      ]
    },
    {
      "cell_type": "code",
      "metadata": {
        "colab": {
          "base_uri": "https://localhost:8080/"
        },
        "id": "jhyX2SXS3T9U",
        "outputId": "0f1ff4a3-288e-4408-a7f9-affc5f4f1185"
      },
      "source": [
        "str = 'X-DSPAM-Confidence:0.8475'\n",
        "atpos = str.find(':')\n",
        "host = str[atpos+1:]\n",
        "print(float(host))"
      ],
      "execution_count": null,
      "outputs": [
        {
          "output_type": "stream",
          "text": [
            "0.8475\n"
          ],
          "name": "stdout"
        }
      ]
    }
  ]
}